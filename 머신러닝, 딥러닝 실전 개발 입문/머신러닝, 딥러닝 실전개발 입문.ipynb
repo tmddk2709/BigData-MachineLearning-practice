{
 "cells": [
  {
   "cell_type": "markdown",
   "metadata": {},
   "source": [
    "# 1장 크롤링과 스크레이핑"
   ]
  },
  {
   "cell_type": "markdown",
   "metadata": {},
   "source": [
    "## 1-1 데이터 다운로드하기"
   ]
  },
  {
   "cell_type": "code",
   "execution_count": 1,
   "metadata": {},
   "outputs": [
    {
     "name": "stdout",
     "output_type": "stream",
     "text": [
      "저장되었습니다!\n",
      "저장되었습니다!\n"
     ]
    }
   ],
   "source": [
    "import urllib.request\n",
    "\n",
    "url = 'http://uta.pw/shodou/img/28/214.png'\n",
    "savename = 'test.png'\n",
    "\n",
    "#파일에 곧바로 저장\n",
    "urllib.request.urlretrieve(url, savename)\n",
    "print('저장되었습니다!')\n",
    "\n",
    "#파이썬 메모리 위에 올린 후 파일에 저장\n",
    "mem = urllib.request.urlopen(url).read()\n",
    "with open(savename, mode='wb') as f: #w: write, b: binary\n",
    "    f.write(mem)\n",
    "    print('저장되었습니다!')"
   ]
  },
  {
   "cell_type": "code",
   "execution_count": 2,
   "metadata": {},
   "outputs": [
    {
     "name": "stdout",
     "output_type": "stream",
     "text": [
      "[ip]\n",
      "API_URI=http://api.aoikujira.com/ip/get.php\n",
      "REMOTE_ADDR=121.140.76.194\n",
      "REMOTE_HOST=121.140.76.194\n",
      "REMOTE_PORT=42158\n",
      "HTTP_HOST=api.aoikujira.com\n",
      "HTTP_USER_AGENT=Python-urllib/3.7\n",
      "HTTP_ACCEPT_LANGUAGE=\n",
      "HTTP_ACCEPT_CHARSET=\n",
      "SERVER_PORT=80\n",
      "FORMAT=ini\n",
      "\n",
      "\n"
     ]
    }
   ],
   "source": [
    "import urllib.request\n",
    "\n",
    "url = 'http://api.aoikujira.com/ip/ini'\n",
    "res = urllib.request.urlopen(url)\n",
    "data = res.read()\n",
    "\n",
    "#바이너리를 문자로 변환\n",
    "text = data.decode('utf-8')\n",
    "print(text)"
   ]
  },
  {
   "cell_type": "code",
   "execution_count": 3,
   "metadata": {},
   "outputs": [
    {
     "name": "stdout",
     "output_type": "stream",
     "text": [
      "url= http://www.kma.go.kr/weather/forecast/mid-term-rss3.jsp?stnId=109\n",
      "<?xml version=\"1.0\" encoding=\"utf-8\" ?>\n",
      "<rss version=\"2.0\">\n",
      "<channel>\n",
      "<title>기상청 육상 중기예보</title>\n",
      "<link>http://www.kma.go.kr/weather/forecast/mid-term_02.jsp</link>\n",
      "<description>기상청 날씨 웹서비스</description>\n",
      "<language>ko</language>\n",
      "<generator>기상청</generator>\n",
      "<pubDate>2020년 08월 08일 (토)요일 18:00</pu\n"
     ]
    }
   ],
   "source": [
    "import urllib.request\n",
    "import urllib.parse\n",
    "API = 'http://www.kma.go.kr/weather/forecast/mid-term-rss3.jsp'\n",
    "\n",
    "#매개변수를 URL 인코딩 - 한글 포함되어 있으면 반드시 인코딩할 것\n",
    "values = {\n",
    "    'stnId':'109'\n",
    "}\n",
    "params = urllib.parse.urlencode(values)\n",
    "\n",
    "#요청 전용 URL 생성\n",
    "url = API + '?' + params\n",
    "print('url=', url)\n",
    "\n",
    "#다운로드\n",
    "data = urllib.request.urlopen(url).read()\n",
    "text = data.decode('utf-8')\n",
    "print(text[:300])"
   ]
  },
  {
   "cell_type": "markdown",
   "metadata": {},
   "source": [
    "## 1-2 BeautifulSoup로 스크레이핑하기\n",
    "\n",
    "- BeautifulSoup 자체에는 다운로드 기능이 없음"
   ]
  },
  {
   "cell_type": "code",
   "execution_count": 4,
   "metadata": {},
   "outputs": [
    {
     "name": "stdout",
     "output_type": "stream",
     "text": [
      "h1 = 스크레이핑이란?\n",
      "p  = 웹 페이지를 분석하는 것\n",
      "p  = \n",
      "\n",
      "p  = 원하는 부분을 추출하는 것\n"
     ]
    }
   ],
   "source": [
    "from bs4 import BeautifulSoup\n",
    "\n",
    "#분석하고 싶은 HTML\n",
    "html = \"\"\"\n",
    "<html><body>\n",
    "<h1>스크레이핑이란?</h1>\n",
    "<p>웹 페이지를 분석하는 것</p>\n",
    "<p>원하는 부분을 추출하는 것</p>\n",
    "</body></html>\n",
    "\"\"\"\n",
    "\n",
    "#HTML 분석하기\n",
    "soup = BeautifulSoup(html, 'html.parser')\n",
    "\n",
    "h1 = soup.html.body.h1\n",
    "p1 = soup.html.body.p\n",
    "p1_2 = p1.next_sibling\n",
    "p2 = p1.next_sibling.next_sibling\n",
    "\n",
    "print(\"h1 = \" + h1.string)\n",
    "print(\"p  = \" + p1.string)\n",
    "print(\"p  = \" + p1_2.string)\n",
    "print(\"p  = \" + p2.string)"
   ]
  },
  {
   "cell_type": "code",
   "execution_count": 5,
   "metadata": {},
   "outputs": [
    {
     "name": "stdout",
     "output_type": "stream",
     "text": [
      "#title = 스크레이핑이란?\n",
      "#body  = 웹 페이지를 분석하는 것\n"
     ]
    }
   ],
   "source": [
    "from bs4 import BeautifulSoup\n",
    "\n",
    "#분석하고 싶은 HTML\n",
    "html = \"\"\"\n",
    "<html><body>\n",
    "<h1 id=\"title\">스크레이핑이란?</h1>\n",
    "<p id=\"body\">웹 페이지를 분석하는 것</p>\n",
    "<p>원하는 부분을 추출하는 것</p>\n",
    "</body></html>\n",
    "\"\"\"\n",
    "\n",
    "soup = BeautifulSoup(html, 'html.parser')\n",
    "\n",
    "#id로 찾기\n",
    "title = soup.find(id=\"title\")\n",
    "body = soup.find(id=\"body\")\n",
    "\n",
    "print(\"#title = \"+title.string)\n",
    "print(\"#body  = \"+body.string)"
   ]
  },
  {
   "cell_type": "code",
   "execution_count": 6,
   "metadata": {},
   "outputs": [
    {
     "name": "stdout",
     "output_type": "stream",
     "text": [
      "naver > http://www.naver.com\n",
      "daum > http://www.daum.net\n",
      "<html>\n",
      " <body>\n",
      "  <ul>\n",
      "   <li>\n",
      "    <a href=\"http://www.naver.com\">\n",
      "     naver\n",
      "    </a>\n",
      "   </li>\n",
      "   <li>\n",
      "    <a href=\"http://www.daum.net\">\n",
      "     daum\n",
      "    </a>\n",
      "   </li>\n",
      "  </ul>\n",
      " </body>\n",
      "</html>\n",
      "\n"
     ]
    }
   ],
   "source": [
    "from bs4 import BeautifulSoup\n",
    "\n",
    "#분석하고 싶은 HTML\n",
    "html = \"\"\"\n",
    "<html><body>\n",
    "<ul>\n",
    "<li><a href=\"http://www.naver.com\">naver</a></li>\n",
    "<li><a href=\"http://www.daum.net\">daum</a></li>\n",
    "</body></html>\n",
    "\"\"\"\n",
    "\n",
    "#HTML 분석하기\n",
    "soup = BeautifulSoup(html, 'html.parser')\n",
    "\n",
    "#find_all\n",
    "links = soup.find_all(\"a\")\n",
    "\n",
    "for a in links:\n",
    "    href = a.attrs['href']\n",
    "    text = a.string\n",
    "    print(text, \">\", href)\n",
    "    \n",
    "print(soup.prettify())"
   ]
  },
  {
   "cell_type": "code",
   "execution_count": 7,
   "metadata": {},
   "outputs": [
    {
     "name": "stdout",
     "output_type": "stream",
     "text": [
      "기상청 육상 중기예보\n",
      "○ (강수) 11일(화)은 전국(제주도 제외)에 비가 오겠고, 12일(수)~14일(금)은 서울.경기도와 강원영서에 비가 오겠습니다.<br />○ (기온) 이번 예보기간의 낮 기온은 27~35도로 오늘(23~29도)보다 높겠고, <br />          특히, 경북내륙과 강원동해안을 중심으로 낮 기온이 34도 내외로 매우 덥겠고, 열대야가 나타나는 곳이 있겠습니다.<br /><br />* 최근 전국에 많은 비가 온 가운데, 앞으로 중부지방에 장기간에 걸쳐 비가 예상됨에 따라 위험요소를 미리 점검하여 비로 인한 피해가 없도록 유의하기 바랍니다.<br />* 이번 예보기간은 정체전선의 위치와 기압골의 발달정도에 따라 강수시점과 지역이 변경될 가능성이 있으니, 앞으로 발표되는 기상정보를 참고하기 바랍니다.\n"
     ]
    }
   ],
   "source": [
    "#urlopen과 BeautifulSoup 조합하기\n",
    "from bs4 import BeautifulSoup\n",
    "import urllib.request as req\n",
    "\n",
    "url = \"http://www.kma.go.kr/weather/forecast/mid-term-rss3.jsp\"\n",
    "\n",
    "#urlopen()으로 데이터 가져오기\n",
    "res = req.urlopen(url)\n",
    "\n",
    "#BeautifulSoup으로 분석하기\n",
    "soup = BeautifulSoup(res, \"html.parser\")\n",
    "\n",
    "#원하는 데이터 추출하기\n",
    "title = soup.find(\"title\").string\n",
    "wf = soup.find(\"wf\").string\n",
    "print(title)\n",
    "print(wf)"
   ]
  },
  {
   "cell_type": "code",
   "execution_count": 8,
   "metadata": {},
   "outputs": [
    {
     "name": "stdout",
     "output_type": "stream",
     "text": [
      "h1 =  위키북스 도서\n",
      "li =  유니티 게임 이펙트 입문\n",
      "li =  스위프트로 시작하는 아이폰 앱 개발 교과서\n",
      "li =  모던 웹사이트 디자인의 정석\n"
     ]
    }
   ],
   "source": [
    "#css 선택자 사용하기\n",
    "from bs4 import BeautifulSoup\n",
    "\n",
    "html = \"\"\"\n",
    "<html><body>\n",
    "<div id=\"meigen\">\n",
    "<h1>위키북스 도서</h1>\n",
    "<ul class=\"items\">\n",
    "<li>유니티 게임 이펙트 입문</li>\n",
    "<li>스위프트로 시작하는 아이폰 앱 개발 교과서</li>\n",
    "<li>모던 웹사이트 디자인의 정석</li>\n",
    "</ul>\n",
    "</div>\n",
    "</body></html>\n",
    "\"\"\"\n",
    "\n",
    "soup = BeautifulSoup(html, \"html.parser\")\n",
    "\n",
    "#필요한 부분을 css 쿼리로 추출하기\n",
    "h1 = soup.select_one(\"div#meigen > h1\").string\n",
    "print(\"h1 = \", h1)\n",
    "\n",
    "li_list = soup.select(\"div#meigen > ul.items > li\")\n",
    "for li in li_list:\n",
    "    print(\"li = \", li.string)"
   ]
  },
  {
   "cell_type": "code",
   "execution_count": 9,
   "metadata": {},
   "outputs": [
    {
     "name": "stdout",
     "output_type": "stream",
     "text": [
      "usd/krw = 1,188.50\n"
     ]
    }
   ],
   "source": [
    "#네이버 금융에서 환율 정보 추출하기\n",
    "from bs4 import BeautifulSoup\n",
    "import urllib.request as req\n",
    "\n",
    "url = \"https://finance.naver.com/marketindex/\"\n",
    "res = req.urlopen(url)\n",
    "\n",
    "soup = BeautifulSoup(res, \"html.parser\")\n",
    "\n",
    "price = soup.select_one(\"div.head_info > span.value\").string\n",
    "print(\"usd/krw =\", price)"
   ]
  },
  {
   "cell_type": "markdown",
   "metadata": {},
   "source": [
    "## 1-3 CSS 선택자\n",
    "\n",
    "* **\\***              : 모든 요소 선택\n",
    "* **<요소 이름>**    : 요소 이름 기반으로 선택\n",
    "* **.<클래스 이름>** : 클래스 이름 기반으로 선택\n",
    "* **#<id 이름>**      : id 속성을 기반으로 선택"
   ]
  },
  {
   "cell_type": "code",
   "execution_count": 10,
   "metadata": {},
   "outputs": [
    {
     "name": "stdout",
     "output_type": "stream",
     "text": [
      "- 하늘과 바람과 별과 시\n",
      "- 증보판\n",
      "- 서시\n",
      "- 자화상\n",
      "- 소년\n"
     ]
    }
   ],
   "source": [
    "from bs4 import BeautifulSoup\n",
    "import urllib.request as req\n",
    "\n",
    "url = \"https://ko.wikisource.org/wiki/%EC%A0%80%EC%9E%90:%EC%9C%A4%EB%8F%99%EC%A3%BC\"\n",
    "res = req.urlopen(url)\n",
    "soup = BeautifulSoup(res, \"html.parser\")\n",
    "\n",
    "a_list = soup.select(\"#mw-content-text > div > ul > li a\")\n",
    "\n",
    "for a in a_list[:5]:\n",
    "    name = a.string\n",
    "    print(\"-\", name)    "
   ]
  },
  {
   "cell_type": "code",
   "execution_count": 11,
   "metadata": {},
   "outputs": [
    {
     "name": "stdout",
     "output_type": "stream",
     "text": [
      "Numbers\n",
      "Numbers\n",
      "Numbers\n",
      "Numbers\n",
      "Numbers\n",
      "Numbers\n",
      "Numbers\n",
      "Numbers\n",
      "Numbers\n",
      "Numbers\n"
     ]
    }
   ],
   "source": [
    "#CSS 선택자로 추출 연습하기\n",
    "\n",
    "html=\"\"\"\n",
    "<ul id=\"bible\">\n",
    "    <li id=\"ge\">Genesis</li>\n",
    "    <li id=\"ex\">Exodus</li>\n",
    "    <li id=\"le\">Leviticus</li>\n",
    "    <li id=\"nu\">Numbers</li>\n",
    "    <li id=\"de\">Deuteronomy</li>\n",
    "</ul>\n",
    "\"\"\"\n",
    "\n",
    "#Numbers 추출하기\n",
    "from bs4 import BeautifulSoup\n",
    "soup = BeautifulSoup(html, \"html.parser\")\n",
    "\n",
    "#CSS 선택자로 검색하는 방법\n",
    "sel = lambda q: print(soup.select_one(q).string)\n",
    "sel(\"#nu\")\n",
    "sel(\"li#nu\")\n",
    "sel(\"ul > li#nu\")\n",
    "sel(\"#bible #nu\")\n",
    "sel(\"#bible > #nu\")\n",
    "sel(\"ul#bible > li#nu\")\n",
    "sel(\"li[id='nu']\")\n",
    "sel(\"li:nth-of-type(4)\")\n",
    "\n",
    "#그 외의 방법\n",
    "print(soup.select(\"li\")[3].string)\n",
    "print(soup.find_all(\"li\")[3].string)"
   ]
  },
  {
   "cell_type": "code",
   "execution_count": 20,
   "metadata": {},
   "outputs": [
    {
     "name": "stdout",
     "output_type": "stream",
     "text": [
      "<html>\n",
      " <body>\n",
      "  <div id=\"main-goods\" role=\"page\">\n",
      "   <h1>\n",
      "    과일과 야채\n",
      "   </h1>\n",
      "   <ul id=\"fr-list\">\n",
      "    <li class=\"red green\" data-lo=\"ko\">\n",
      "     사과\n",
      "    </li>\n",
      "    <li class=\"purple\" data-lo=\"us\">\n",
      "     포도\n",
      "    </li>\n",
      "    <li class=\"yellow\" data-lo=\"us\">\n",
      "     레몬\n",
      "    </li>\n",
      "    <li class=\"yellow\" data-lo=\"ko\">\n",
      "     오렌지\n",
      "    </li>\n",
      "   </ul>\n",
      "   <ul id=\"ve-list\">\n",
      "    <li class=\"white green\" data-lo=\"ko\">\n",
      "     무\n",
      "    </li>\n",
      "    <li class=\"red green\" data-lo=\"us\">\n",
      "     파프리카\n",
      "    </li>\n",
      "    <li class=\"black\" data-lo=\"ko\">\n",
      "     가지\n",
      "    </li>\n",
      "    <li class=\"black\" data-lo=\"us\">\n",
      "     아보카도\n",
      "    </li>\n",
      "    <li class=\"white\" data-lo=\"cn\">\n",
      "     연근\n",
      "    </li>\n",
      "   </ul>\n",
      "  </div>\n",
      " </body>\n",
      "</html>\n",
      "\n",
      "아보카도\n",
      "아보카도\n",
      "아보카도\n",
      "아보카도\n",
      "아보카도\n"
     ]
    }
   ],
   "source": [
    "from bs4 import BeautifulSoup\n",
    "\n",
    "fp = open(\"fruits-vegetables.html\", encoding=\"utf-8\")\n",
    "soup = BeautifulSoup(fp, \"html.parser\")\n",
    "print(soup.prettify())\n",
    "print()\n",
    "\n",
    "#CSS 선택자로 추출하기\n",
    "# print(soup.select_one(\"li:nth-of-type(8)\").string)\n",
    "print(soup.select_one(\"#ve-list > li:nth-of-type(4)\").string)\n",
    "print(soup.select(\"#ve-list > li[data-lo='us']\")[1].string)\n",
    "print(soup.select(\"#ve-list > li.black\")[1].string)\n",
    "\n",
    "#find 메서드로 추출하기\n",
    "cond = {\"data-lo\":\"us\", \"class\":\"black\"}\n",
    "print(soup.find(\"li\", cond).string)\n",
    "\n",
    "#find 메서드를 연속으로 사용하기\n",
    "print(soup.find(id=\"ve-list\")\n",
    "         .find(\"li\", cond).string)"
   ]
  },
  {
   "cell_type": "code",
   "execution_count": 21,
   "metadata": {},
   "outputs": [
    {
     "name": "stdout",
     "output_type": "stream",
     "text": [
      "https://example.com/fuga\n",
      "https://example.com/foo\n"
     ]
    }
   ],
   "source": [
    "#정규표현식과 함께 조합하기\n",
    "from bs4 import BeautifulSoup\n",
    "import re\n",
    "\n",
    "html = \"\"\"\n",
    "<ul>\n",
    "  <li><a href=\"hoge.html\">hoge</li>\n",
    "  <li><a href=\"https://example.com/fuga\">fuga*</li>\n",
    "  <li><a href=\"https://example.com/foo\">foo*</li>\n",
    "  <li><a href=\"http://example.com/aaa\">aaa</li>\n",
    "</ul>\n",
    "\"\"\"\n",
    "\n",
    "soup = BeautifulSoup(html, \"html.parser\")\n",
    "\n",
    "#정규 표현식으로 href에서 https인 것 추출하기\n",
    "li = soup.find_all(href=re.compile(r\"^https://\"))\n",
    "for e in li:\n",
    "    print(e.attrs['href'])"
   ]
  },
  {
   "cell_type": "markdown",
   "metadata": {},
   "source": [
    "## 1-4 링크에 있는 것을 한꺼번에 내려받기"
   ]
  },
  {
   "cell_type": "code",
   "execution_count": 25,
   "metadata": {},
   "outputs": [
    {
     "name": "stdout",
     "output_type": "stream",
     "text": [
      "http://example.com/html/b.html\n",
      "http://example.com/html/sub/c.html\n",
      "http://example.com/index.html\n",
      "http://example.com/img/hoge.png\n",
      "http://example.com/css/hoge.css\n",
      "\n",
      "http://otherExample.com/wiki\n",
      "http://anotherExample.org/test\n"
     ]
    }
   ],
   "source": [
    "from urllib.parse import urljoin\n",
    "\n",
    "#상대링크를 절대링크로 변환\n",
    "base = \"http://example.com/html/a.html\"\n",
    "\n",
    "print(urljoin(base, \"b.html\"))\n",
    "print(urljoin(base, \"sub/c.html\"))\n",
    "print(urljoin(base, \"../index.html\"))\n",
    "print(urljoin(base, \"../img/hoge.png\"))\n",
    "print(urljoin(base, \"../css/hoge.css\"))\n",
    "print()\n",
    "print(urljoin(base, \"http://otherExample.com/wiki\"))\n",
    "print(urljoin(base, \"//anotherExample.org/test\"))"
   ]
  },
  {
   "cell_type": "code",
   "execution_count": null,
   "metadata": {},
   "outputs": [],
   "source": [
    "# 파이썬 매뉴얼을 재귀적으로 다운받는 프로그램\n",
    "\n",
    "from bs4 import BeautifulSoup\n",
    "from urllib.request import *\n",
    "from urllib.parse import *\n",
    "from os import makedirs\n",
    "import os.path, time, re\n",
    "\n",
    "# 이미 처리한 파일인지 확인하기 위한 변수 \n",
    "proc_files = {}\n",
    "\n",
    "# HTML 내부에 있는 링크를 추출하는 함수 \n",
    "def enum_links(html, base):\n",
    "    soup = BeautifulSoup(html, \"html.parser\")\n",
    "    links = soup.select(\"link[rel='stylesheet']\") # CSS\n",
    "    links += soup.select(\"a[href]\") # 링크\n",
    "    result = []\n",
    "\n",
    "    # href 속성을 추출하고, 링크를 절대 경로로 변환\n",
    "    for a in links:\n",
    "        href = a.attrs['href']\n",
    "        url = urljoin(base, href)\n",
    "        result.append(url)\n",
    "    return result\n",
    "\n",
    "# 파일을 다운받고 저장하는 함수 \n",
    "def download_file(url):\n",
    "    o = urlparse(url)\n",
    "    savepath = \"./\" + o.netloc + o.path\n",
    "    \n",
    "    if re.search(r\"/$\", savepath): # 폴더라면 index.html\n",
    "        savepath += \"index.html\"\n",
    "    savedir = os.path.dirname(savepath)\n",
    "    \n",
    "    # 모두 다운됐는지 확인\n",
    "    if os.path.exists(savepath): \n",
    "        return savepath\n",
    "    \n",
    "    # 다운받을 폴더 생성\n",
    "    if not os.path.exists(savedir):\n",
    "        print(\"mkdir=\", savedir)\n",
    "        makedirs(savedir)\n",
    "    \n",
    "    # 파일 다운받기 \n",
    "    try:\n",
    "        print(\"download=\", url)\n",
    "        urlretrieve(url, savepath)\n",
    "        time.sleep(1) # 1초 휴식 \n",
    "        return savepath\n",
    "    except:\n",
    "        print(\"다운 실패: \", url)\n",
    "        return None        \n",
    "    \n",
    "# HTML을 분석하고 다운받는 함수\n",
    "def analyze_html(url, root_url):\n",
    "    savepath = download_file(url)\n",
    "    \n",
    "    if savepath is None: \n",
    "        return\n",
    "    \n",
    "    if savepath in proc_files: \n",
    "        return # 이미 처리됐다면 실행하지 않음\n",
    "    \n",
    "    proc_files[savepath] = True\n",
    "    print(\"analyze_html=\", url)\n",
    "    \n",
    "    # 링크 추출 \n",
    "    html = open(savepath, \"r\", encoding=\"utf-8\").read()\n",
    "    links = enum_links(html, url)\n",
    "    for link_url in links:\n",
    "        \n",
    "        # 링크가 루트 이외의 경로를 나타낸다면 무시\n",
    "        if link_url.find(root_url) != 0:\n",
    "            if not re.search(r\".css$\", link_url): \n",
    "                continue\n",
    "        # HTML이라면\n",
    "        if re.search(r\".(html|htm)$\", link_url):\n",
    "            # 재귀적으로 HTML 파일 분석하기\n",
    "            analyze_html(link_url, root_url)\n",
    "            continue\n",
    "        # 기타 파일\n",
    "        download_file(link_url)\n",
    "        \n",
    "if __name__ == \"__main__\":\n",
    "    # URL에 있는 모든 것 다운받기\n",
    "    url = \"https://docs.python.org/3.5/library/\"\n",
    "    analyze_html(url, url)"
   ]
  },
  {
   "cell_type": "markdown",
   "metadata": {},
   "source": [
    "# 2장 고급 스크레이핑"
   ]
  },
  {
   "cell_type": "markdown",
   "metadata": {},
   "source": [
    "## 2-1 로그인이 필요한 사이트에서 다운받기\n",
    "\n",
    "**쿠키와 세션**\n",
    "\n",
    "* 쿠키: 웹 브라우저를 통해 사이트에 방문하는 사람의 컴퓨터에 일시적으로 데이터를 저장하는 기능\n",
    "\n",
    "* 세션: 쿠키를 사용해 데이터를 저장하지만 쿠키에는 방문자 고유 ID만 저장하고 실제로 모든 데이터는 웹 서버에 저장"
   ]
  },
  {
   "cell_type": "code",
   "execution_count": 27,
   "metadata": {},
   "outputs": [
    {
     "name": "stdout",
     "output_type": "stream",
     "text": [
      "마일리지: 2,000\n",
      "이코인: 0\n"
     ]
    }
   ],
   "source": [
    "#requests 사용해보기\n",
    "import requests\n",
    "from bs4 import BeautifulSoup\n",
    "from urllib.parse import urljoin\n",
    "\n",
    "USER = \"tmddk2709\"\n",
    "PASS = \"haruqrhkr5734\"\n",
    "\n",
    "#세션 시작하기 \n",
    "session = requests.session()\n",
    "\n",
    "#로그인하기 \n",
    "login_info = {\n",
    "    \"m_id\": USER,  # 아이디 지정\n",
    "    \"m_passwd\": PASS  # 비밀번호 지정\n",
    "}\n",
    "\n",
    "url_login = \"https://www.hanbit.co.kr/member/login_proc.php\"\n",
    "res = session.post(url_login, data=login_info)\n",
    "res.raise_for_status() #오류가 발생하면 예외가 발생합니다.\n",
    "\n",
    "#마이페이지에 접근하기 \n",
    "url_mypage = \"http://www.hanbit.co.kr/myhanbit/myhanbit.html\" \n",
    "res = session.get(url_mypage)\n",
    "res.raise_for_status()\n",
    "\n",
    "# 마일리지와 이코인 가져오기\n",
    "soup = BeautifulSoup(res.text, \"html.parser\")\n",
    "mileage = soup.select_one(\".mileage_section1 span\").get_text()\n",
    "ecoin = soup.select_one(\".mileage_section2 span\").get_text()\n",
    "print(\"마일리지: \" + mileage)\n",
    "print(\"이코인: \" + ecoin)"
   ]
  },
  {
   "cell_type": "code",
   "execution_count": null,
   "metadata": {},
   "outputs": [],
   "source": [
    "#requests 모듈의 메서드\n",
    "\n",
    "import requests\n",
    "\n",
    "#GET\n",
    "r = requests.get(\"http://google.com\")\n",
    "\n",
    "#POST\n",
    "formdata = {\"key1\":\"value1\", \"key2\":\"value2\"}\n",
    "r = requests.post(\"http://example.com\", data=formdata)"
   ]
  },
  {
   "cell_type": "code",
   "execution_count": 28,
   "metadata": {},
   "outputs": [
    {
     "name": "stdout",
     "output_type": "stream",
     "text": [
      "2020/08/09 05:30:59\n",
      "b'2020/08/09 05:30:59'\n"
     ]
    }
   ],
   "source": [
    "import requests\n",
    "\n",
    "r = requests.get(\"http://api.aoikujira.com/time/get.php\")\n",
    "\n",
    "text = r.text\n",
    "print(text)\n",
    "\n",
    "bin = r.content\n",
    "print(bin)"
   ]
  },
  {
   "cell_type": "code",
   "execution_count": 29,
   "metadata": {},
   "outputs": [
    {
     "name": "stdout",
     "output_type": "stream",
     "text": [
      "saved\n"
     ]
    }
   ],
   "source": [
    "import requests\n",
    "\n",
    "r = requests.get(\"http://wikibook.co.kr/wikibook.png\")\n",
    "\n",
    "with open(\"test.pnt\", \"wb\") as f:\n",
    "    f.write(r.content)\n",
    "    \n",
    "print(\"saved\")"
   ]
  },
  {
   "cell_type": "markdown",
   "metadata": {},
   "source": [
    "## 2-2 웹 브라우저를 이용한 스크레이핑\n",
    "\n",
    "자바스크립트를 많이 사용하는 웹 사이트는 웹 브라우저를 사용하지 않을 경우 제대로 동작을 확인하기 어려움\n",
    "\n",
    "=> 웹 브라우저를 원격으로 조작하는 방식 사용"
   ]
  },
  {
   "cell_type": "code",
   "execution_count": 40,
   "metadata": {},
   "outputs": [],
   "source": [
    "from selenium.webdriver import Chrome, ChromeOptions\n",
    "\n",
    "url = \"https://www.naver.com/\"\n",
    "\n",
    "options = ChromeOptions()\n",
    "options.add_argument('-headless')\n",
    "\n",
    "browser = Chrome(options=options)\n",
    "browser.get(url)\n",
    "browser.save_screenshot('website_chrome.png')\n",
    "browser.quit()"
   ]
  },
  {
   "cell_type": "markdown",
   "metadata": {},
   "source": [
    "## 2-4 cron을 이용한 정기적인 크롤링"
   ]
  },
  {
   "cell_type": "code",
   "execution_count": 44,
   "metadata": {},
   "outputs": [
    {
     "name": "stdout",
     "output_type": "stream",
     "text": [
      "usd/krw 1,188.50\n"
     ]
    }
   ],
   "source": [
    "#매일 환율 정보 저장하기\n",
    "\n",
    "from bs4 import BeautifulSoup\n",
    "import urllib.request as req\n",
    "import datetime\n",
    "\n",
    "# HTML 가져오기\n",
    "url = \"https://finance.naver.com/marketindex/\"\n",
    "res = req.urlopen(url)\n",
    "\n",
    "# HTML 분석하기\n",
    "soup = BeautifulSoup(res, \"html.parser\")\n",
    "\n",
    "# 원하는 데이터 추출하기\n",
    "price = soup.select_one(\"div.head_info > span.value\").string\n",
    "print(\"usd/krw\", price)\n",
    "\n",
    "# 저장할 파일 이름 구하기\n",
    "t = datetime.date.today()\n",
    "fname = t.strftime(\"%Y-%m-%d\") + \".txt\"\n",
    "\n",
    "with open(fname, \"w\", encoding=\"utf-8\") as f:\n",
    "    f.write(price)"
   ]
  },
  {
   "cell_type": "code",
   "execution_count": 1,
   "metadata": {},
   "outputs": [],
   "source": [
    "#CRONTAB FILE \n",
    "# Classic crontab format:\n",
    "# Minutes Hours Days Months WeekDays Command\n",
    "#*/15 8-16 * * 1-5 checkmail.exe\n",
    "\n",
    "# 리스트: \t\tex) 10,30,50 \n",
    "# 범위:  \t\tex) 1-5\n",
    "# 간격: \t\tex) */10 => 10 간격으로 지정\n",
    "# 와일드카드: \tex) * => 모두 지정\n",
    "\n",
    "# 예시\n",
    "# 30 8 * * * /usr/bin/say \"Good Morning\" 매일 아침 8시 30분에 Good Morning\n",
    "# 50 07 * * 1 /usr/bin/say \"쓰레기 버리는 날입니다\"\n",
    "\n",
    "# 매월 마지막 날\n",
    "# 50 23 28-31 * * /usr/bin/test $( date -d '+1 day' + %d) -eq 1 && (명령어)"
   ]
  },
  {
   "cell_type": "markdown",
   "metadata": {},
   "source": [
    "# 3장 데이터 소스의 서식과 가공"
   ]
  },
  {
   "cell_type": "markdown",
   "metadata": {},
   "source": [
    "## 3-1. 웹의 다양한 데이터 형식"
   ]
  },
  {
   "cell_type": "markdown",
   "metadata": {},
   "source": [
    "**XML**\n",
    "\n",
    "텍스트 데이터를 기반으로 하는 형식\n",
    "\n",
    "데이터를 계층 구조로 표현 가능"
   ]
  },
  {
   "cell_type": "code",
   "execution_count": 2,
   "metadata": {},
   "outputs": [
    {
     "name": "stdout",
     "output_type": "stream",
     "text": [
      "+ 흐리고 비\n",
      "| -  서울\n",
      "| -  인천\n",
      "| -  수원\n",
      "| -  파주\n",
      "| -  이천\n",
      "| -  평택\n",
      "| -  춘천\n",
      "| -  원주\n",
      "| -  대전\n",
      "| -  세종\n",
      "| -  홍성\n",
      "| -  청주\n",
      "| -  충주\n",
      "| -  영동\n",
      "+ 흐림\n",
      "| -  강릉\n",
      "| -  전주\n",
      "| -  군산\n",
      "| -  정읍\n",
      "| -  남원\n",
      "| -  고창\n",
      "| -  무주\n",
      "+ 구름많음\n",
      "| -  광주\n",
      "| -  목포\n",
      "| -  여수\n",
      "| -  순천\n",
      "| -  광양\n",
      "| -  나주\n",
      "| -  부산\n",
      "| -  울산\n",
      "| -  창원\n",
      "| -  진주\n",
      "| -  거창\n",
      "| -  통영\n",
      "| -  대구\n",
      "| -  안동\n",
      "| -  포항\n",
      "| -  경주\n",
      "| -  울진\n",
      "| -  울릉도\n",
      "+ 맑음\n",
      "| -  제주\n",
      "| -  서귀포\n"
     ]
    }
   ],
   "source": [
    "from bs4 import BeautifulSoup \n",
    "import urllib.request as req\n",
    "import os.path\n",
    "\n",
    "#XML 다운로드\n",
    "url = \"https://www.kma.go.kr/weather/forecast/mid-term-rss3.jsp?stnId=108\"\n",
    "savename = \"forecast.xml\"\n",
    "if not os.path.exists(savename):\n",
    "    req.urlretrieve(url, savename)\n",
    "\n",
    "xml = open(savename, \"r\", encoding=\"utf-8\").read()\n",
    "soup = BeautifulSoup(xml, 'html.parser')\n",
    "\n",
    "#각 지역 확인\n",
    "info = {}\n",
    "for location in soup.find_all(\"location\"):\n",
    "    name = location.find('city').string\n",
    "    weather = location.find('wf').string\n",
    "    if not (weather in info):\n",
    "        info[weather] = []\n",
    "    info[weather].append(name)\n",
    "\n",
    "# 각 지역의 날씨를 구분해서 출력하기\n",
    "for weather in info.keys():\n",
    "    print(\"+\", weather)\n",
    "    for name in info[weather]:\n",
    "        print(\"| - \", name)"
   ]
  },
  {
   "cell_type": "markdown",
   "metadata": {},
   "source": [
    "**JSON**"
   ]
  },
  {
   "cell_type": "code",
   "execution_count": 10,
   "metadata": {},
   "outputs": [
    {
     "name": "stdout",
     "output_type": "stream",
     "text": [
      "grit - mojombo\n",
      "merb-core - wycats\n",
      "rubinius - rubinius\n",
      "god - mojombo\n",
      "jsawesome - vanpelt\n",
      "jspec - wycats\n",
      "exception_logger - defunkt\n",
      "ambition - defunkt\n",
      "restful-authentication - technoweenie\n",
      "attachment_fu - technoweenie\n"
     ]
    }
   ],
   "source": [
    "import urllib.request as req\n",
    "import os.path, random\n",
    "import json\n",
    "\n",
    "#JSON 데이터 내려받기 \n",
    "url = \"https://api.github.com/repositories\"\n",
    "savename = \"repo.json\"\n",
    "if not os.path.exists(savename):\n",
    "    req.urlretrieve(url, savename)\n",
    "\n",
    "#JSON 파일 분석하기 \n",
    "items = json.load(open(savename, \"r\", encoding=\"utf-8\"))\n",
    "# 또는\n",
    "# s = open(savename, \"r\", encoding=\"utf-8\").read()\n",
    "# items = json.loads(s)\n",
    "\n",
    "#출력\n",
    "i = 0\n",
    "for item in items:\n",
    "    print(item[\"name\"] + \" - \" + item[\"owner\"][\"login\"])\n",
    "    i += 1\n",
    "    if i == 10:\n",
    "        break\n",
    "        \n",
    "#json 형식으로 출력\n",
    "s = json.dumps(json.load(open(savename, 'r', encoding='utf-8')))\n",
    "# print(s)"
   ]
  },
  {
   "cell_type": "markdown",
   "metadata": {},
   "source": [
    "## 3-2. 데이터베이스"
   ]
  },
  {
   "cell_type": "markdown",
   "metadata": {},
   "source": [
    "**SQLite**"
   ]
  },
  {
   "cell_type": "code",
   "execution_count": 12,
   "metadata": {},
   "outputs": [
    {
     "name": "stdout",
     "output_type": "stream",
     "text": [
      "(1, 'Apple', 800)\n",
      "(2, 'Orange', 780)\n",
      "(3, 'Banana', 430)\n"
     ]
    }
   ],
   "source": [
    "import sqlite3\n",
    "\n",
    "#sqlite 데이터베이스 연결\n",
    "dbpath = 'test.sqlite'\n",
    "conn = sqlite3.connect(dbpath)\n",
    "\n",
    "#테이블 생성하고 데이터 넣기\n",
    "cur = conn.cursor()\n",
    "cur.executescript(\"\"\"\n",
    "\n",
    "/* items 테이블이 이미 있다면 제거하기 */\n",
    "DROP TABLE IF EXISTS items;\n",
    "\n",
    "/* 테이블 생성하기 */\n",
    "CREATE TABLE items(\n",
    "    item_id INTEGER PRIMARY KEY,\n",
    "    name TEXT UNIQUE,\n",
    "    price INTEGER\n",
    ");\n",
    "\n",
    "/* 데이터 넣기 */\n",
    "INSERT INTO items (name, price) VALUES ('Apple', 800);\n",
    "INSERT INTO items (name, price) VALUES ('Orange', 780);\n",
    "INSERT INTO items (name, price) VALUES ('Banana', 430);\n",
    "\n",
    "\"\"\")\n",
    "\n",
    "#위의 조작 데이터베이스에 반영\n",
    "conn.commit()\n",
    "\n",
    "#데이터 추출\n",
    "cur = conn.cursor()\n",
    "cur.execute(\"SELECT item_id,name,price FROM items\")\n",
    "item_list = cur.fetchall()\n",
    "\n",
    "#출력\n",
    "for it in item_list:\n",
    "    print(it)"
   ]
  },
  {
   "cell_type": "code",
   "execution_count": 13,
   "metadata": {},
   "outputs": [
    {
     "name": "stdout",
     "output_type": "stream",
     "text": [
      "(1, 'Orange', 5200)\n",
      "(3, 'Kiwi', 4000)\n",
      "(6, 'Persimmon', 7000)\n",
      "(7, 'Banana', 4000)\n"
     ]
    }
   ],
   "source": [
    "import sqlite3\n",
    "\n",
    "#데이터베이스 연결\n",
    "filepath = \"test2.sqlite\"\n",
    "conn = sqlite3.connect(filepath)\n",
    "\n",
    "#테이블 생성\n",
    "cur = conn.cursor()\n",
    "cur.execute(\"DROP TABLE IF EXISTS items\") \n",
    "cur.execute(\"\"\"CREATE TABLE items (\n",
    "    item_id INTEGER PRIMARY KEY,\n",
    "    name    TEXT,\n",
    "    price   INTEGER)\"\"\")\n",
    "conn.commit()\n",
    "\n",
    "#데이터 넣기\n",
    "cur = conn.cursor()\n",
    "cur.execute(\n",
    "    \"INSERT INTO items (name,price) VALUES (?,?)\",\n",
    "    (\"Orange\", 5200))\n",
    "conn.commit()\n",
    "\n",
    "#여러 데이터 연속으로 넣기\n",
    "cur = conn.cursor()\n",
    "data = [(\"Mango\",7700), (\"Kiwi\",4000), (\"Grape\",8000),\n",
    "    (\"Peach\",9400),(\"Persimmon\",7000),(\"Banana\", 4000)]\n",
    "cur.executemany(\n",
    "    \"INSERT INTO items(name,price) VALUES (?,?)\",\n",
    "    data)\n",
    "conn.commit()\n",
    "\n",
    "#4000-7000원 사이의 데이터 추출하기\n",
    "cur = conn.cursor()\n",
    "price_range = (4000, 7000)\n",
    "cur.execute(\n",
    "    \"SELECT * FROM items WHERE price>=? AND price<=?\",\n",
    "    price_range)\n",
    "\n",
    "fr_list = cur.fetchall()\n",
    "for fr in fr_list:\n",
    "    print(fr)"
   ]
  },
  {
   "cell_type": "markdown",
   "metadata": {},
   "source": [
    "**MySQL**"
   ]
  },
  {
   "cell_type": "code",
   "execution_count": 42,
   "metadata": {},
   "outputs": [],
   "source": [
    "import pymysql\n",
    "\n",
    "db = pymysql.connect(\n",
    "    user='root', \n",
    "    passwd='MYruqrhkr19.', \n",
    "    host='localhost', \n",
    "    db='test',\n",
    "    charset='utf8')\n",
    "\n",
    "cursor = db.cursor(pymysql.cursors.DictCursor)\n",
    "\n",
    "cursor.execute('DROP TABLE items')\n",
    "sql = '''\n",
    "    CREATE TABLE items (\n",
    "    item_id INTEGER PRIMARY KEY AUTO_INCREMENT,\n",
    "    name TEXT,\n",
    "    price INTEGER\n",
    "    )'''\n",
    "cursor.execute(sql)\n",
    "\n",
    "data = [('Banana',300), ('Mango',640), ('Kiwi',280)]\n",
    "sql = \"INSERT INTO `items`(name,price) VALUES (%s,%s);\"\n",
    "cursor.executemany(sql, data)\n",
    "db.commit()"
   ]
  },
  {
   "cell_type": "markdown",
   "metadata": {},
   "source": [
    "# 4장 머신러닝"
   ]
  },
  {
   "cell_type": "markdown",
   "metadata": {},
   "source": [
    "## 4-2. 머신러닝 첫걸음"
   ]
  },
  {
   "cell_type": "markdown",
   "metadata": {},
   "source": [
    "**scikit-learn**"
   ]
  },
  {
   "cell_type": "code",
   "execution_count": 54,
   "metadata": {},
   "outputs": [
    {
     "name": "stdout",
     "output_type": "stream",
     "text": [
      "예측결과:  [0 1 1 0]\n",
      "정답률:  4 / 4 = 1.0\n"
     ]
    }
   ],
   "source": [
    "from sklearn import svm\n",
    "\n",
    "#XOR의 계산 결과 데이터\n",
    "xor_data = [\n",
    "    [0,0,0],\n",
    "    [0,1,1],\n",
    "    [1,0,1],\n",
    "    [1,1,0]\n",
    "]\n",
    "\n",
    "#학습을 위해 데이터와 레이블 분리하기\n",
    "data = []\n",
    "label = []\n",
    "for row in xor_data:\n",
    "    p = row[0]\n",
    "    q = row[1]\n",
    "    r = row[2]\n",
    "    data.append([p,q])\n",
    "    label.append(r)\n",
    "    \n",
    "#데이터 학습시키기\n",
    "clf = svm.SVC(gamma='auto')\n",
    "clf.fit(data, label)\n",
    "\n",
    "#데이터 예측하기\n",
    "pre = clf.predict(data)\n",
    "print(\"예측결과: \", pre)\n",
    "\n",
    "#결과 확인\n",
    "ok = 0\n",
    "total = 0\n",
    "\n",
    "for idx, answer in enumerate(label):\n",
    "    p = pre[idx]\n",
    "    if p == answer: ok += 1\n",
    "    total += 1\n",
    "print(\"정답률: \", ok, \"/\", total, \"=\", ok/total)"
   ]
  },
  {
   "cell_type": "code",
   "execution_count": 55,
   "metadata": {},
   "outputs": [
    {
     "name": "stdout",
     "output_type": "stream",
     "text": [
      "정답률 = 1.0\n"
     ]
    }
   ],
   "source": [
    "import pandas as pd\n",
    "from sklearn import svm, metrics\n",
    "\n",
    "#XOR 연산\n",
    "xor_input = [\n",
    "    [0, 0, 0],\n",
    "    [0, 1, 1],\n",
    "    [1, 0, 1],\n",
    "    [1, 1, 0]\n",
    "]\n",
    "\n",
    "#입력을 학습 전용 데이터와 테스트 전용 데이터로 분류\n",
    "xor_df = pd.DataFrame(xor_input)\n",
    "xor_data  = xor_df.loc[:,0:1] #데이터\n",
    "xor_label = xor_df.loc[:,2]   #레이블\n",
    "\n",
    "#데이터 학습과 예측\n",
    "clf = svm.SVC(gamma='auto')\n",
    "clf.fit(xor_data, xor_label)\n",
    "pre = clf.predict(xor_data)\n",
    "\n",
    "#정답률 구하기\n",
    "ac_score = metrics.accuracy_score(xor_label, pre)\n",
    "print(\"정답률 =\", ac_score)"
   ]
  },
  {
   "cell_type": "markdown",
   "metadata": {},
   "source": [
    "**붓꽃 품종 분류**"
   ]
  },
  {
   "cell_type": "code",
   "execution_count": 56,
   "metadata": {},
   "outputs": [
    {
     "name": "stdout",
     "output_type": "stream",
     "text": [
      "정답률 = 0.98\n"
     ]
    }
   ],
   "source": [
    "from sklearn import svm, metrics\n",
    "import random, re\n",
    "\n",
    "#붓꽃의 CSV 데이터 읽어 들이기\n",
    "csv = []\n",
    "with open('iris.csv', 'r', encoding='utf-8') as fp:\n",
    "    # 한 줄씩 읽어 들이기\n",
    "    for line in fp:\n",
    "        line = line.strip()    # 줄바꿈 제거\n",
    "        cols = line.split(',') # 쉼표로 자르기\n",
    "        #문자열 데이터 숫자로 변환\n",
    "        fn = lambda n : float(n) if re.match(r'^[0-9\\.]+$', n) else n\n",
    "        cols = list(map(fn, cols))\n",
    "        csv.append(cols)\n",
    "        \n",
    "#가장 앞 줄의 헤더 제거\n",
    "del csv[0]\n",
    "\n",
    "#데이터 셔플\n",
    "random.shuffle(csv)\n",
    "\n",
    "#학습 전용 데이터와 테스트 전용 데이터 분할하기(2:1 비율)\n",
    "total_len = len(csv)\n",
    "train_len = int(total_len * 2 / 3)\n",
    "train_data = []\n",
    "train_label = []\n",
    "test_data = []\n",
    "test_label = []\n",
    "for i in range(total_len):\n",
    "    data  = csv[i][0:4]\n",
    "    label = csv[i][4]\n",
    "    if i < train_len:\n",
    "        train_data.append(data)\n",
    "        train_label.append(label)\n",
    "    else:\n",
    "        test_data.append(data)\n",
    "        test_label.append(label)\n",
    "        \n",
    "#데이터를 학습시키고 예측하기\n",
    "clf = svm.SVC(gamma='auto')\n",
    "clf.fit(train_data, train_label)\n",
    "pre = clf.predict(test_data)\n",
    "\n",
    "#정답률 구하기\n",
    "ac_score = metrics.accuracy_score(test_label, pre)\n",
    "print(\"정답률 =\", ac_score)"
   ]
  },
  {
   "cell_type": "code",
   "execution_count": 63,
   "metadata": {},
   "outputs": [
    {
     "name": "stdout",
     "output_type": "stream",
     "text": [
      "정답률 = 0.9736842105263158\n"
     ]
    }
   ],
   "source": [
    "import pandas as pd\n",
    "from sklearn import svm, metrics\n",
    "from sklearn.model_selection import train_test_split\n",
    "\n",
    "#붓꽃의 CSV 데이터 읽어 들이기\n",
    "csv = pd.read_csv('iris.csv')\n",
    "\n",
    "#필요한 열 추출하기\n",
    "csv_data = csv[[\"SepalLength\",\"SepalWidth\",\"PetalLength\",\"PetalWidth\"]]\n",
    "csv_label = csv[\"Name\"]\n",
    "\n",
    "#학습 전용 데이터와 테스트 전용 데이터로 나누기\n",
    "train_data, test_data, train_label, test_label = train_test_split(csv_data, csv_label)\n",
    "\n",
    "# 데이터 학습시키고 예측하기\n",
    "clf = svm.SVC(gamma='auto')\n",
    "clf.fit(train_data, train_label)\n",
    "pre = clf.predict(test_data)\n",
    "\n",
    "#정답률 구하기\n",
    "ac_score = metrics.accuracy_score(test_label, pre)\n",
    "print(\"정답률 =\", ac_score)"
   ]
  },
  {
   "cell_type": "markdown",
   "metadata": {},
   "source": [
    "## 4-3. 이미지 내부의 문자 인식"
   ]
  },
  {
   "cell_type": "markdown",
   "metadata": {},
   "source": [
    "**MNIST 이미지 인식**"
   ]
  },
  {
   "cell_type": "code",
   "execution_count": 21,
   "metadata": {},
   "outputs": [
    {
     "name": "stdout",
     "output_type": "stream",
     "text": [
      "download: http://yann.lecun.com/exdb/mnist/train-images-idx3-ubyte.gz\n",
      "download: http://yann.lecun.com/exdb/mnist/train-labels-idx1-ubyte.gz\n",
      "download: http://yann.lecun.com/exdb/mnist/t10k-images-idx3-ubyte.gz\n",
      "download: http://yann.lecun.com/exdb/mnist/t10k-labels-idx1-ubyte.gz\n",
      "gzip: train-images-idx3-ubyte.gz\n",
      "gzip: train-labels-idx1-ubyte.gz\n",
      "gzip: t10k-images-idx3-ubyte.gz\n",
      "gzip: t10k-labels-idx1-ubyte.gz\n",
      "ok\n"
     ]
    }
   ],
   "source": [
    "#MNIST 파일 다운로드\n",
    "import urllib.request as req\n",
    "import gzip, os, os.path\n",
    "\n",
    "savepath = \"./mnist\"\n",
    "baseurl = \"http://yann.lecun.com/exdb/mnist\"\n",
    "files = [\n",
    "    \"train-images-idx3-ubyte.gz\",\n",
    "    \"train-labels-idx1-ubyte.gz\",\n",
    "    \"t10k-images-idx3-ubyte.gz\",\n",
    "    \"t10k-labels-idx1-ubyte.gz\"]\n",
    "\n",
    "#다운로드\n",
    "if not os.path.exists(savepath): os.mkdir(savepath)\n",
    "for f in files:\n",
    "    url = baseurl + \"/\" + f\n",
    "    loc = savepath + \"/\" + f\n",
    "    print(\"download:\", url)\n",
    "    if not os.path.exists(loc):\n",
    "        req.urlretrieve(url, loc)\n",
    "\n",
    "#GZip 압축 해제\n",
    "for f in files:\n",
    "    gz_file = savepath + \"/\" + f\n",
    "    raw_file = savepath + \"/\" + f.replace(\".gz\", \"\")\n",
    "    print(\"gzip:\", f)\n",
    "    with gzip.open(gz_file, \"rb\") as fp:\n",
    "        body = fp.read()\n",
    "        with open(raw_file, \"wb\") as w:\n",
    "            w.write(body)\n",
    "            \n",
    "print(\"ok\")"
   ]
  },
  {
   "cell_type": "code",
   "execution_count": 22,
   "metadata": {},
   "outputs": [],
   "source": [
    "import struct\n",
    "def to_csv(name, maxdata):\n",
    "    \n",
    "    #레이블 파일과 이미지 파일 열기\n",
    "    lbl_f = open(\"./mnist/\"+name+\"-labels-idx1-ubyte\", \"rb\")\n",
    "    img_f = open(\"./mnist/\"+name+\"-images-idx3-ubyte\", \"rb\")\n",
    "    csv_f = open(\"./mnist/\"+name+\".csv\", \"w\", encoding=\"utf-8\")\n",
    "    \n",
    "    #헤더 정보 읽기\n",
    "    mag, lbl_count = struct.unpack(\">II\", lbl_f.read(8)) #little endian 데이터 읽어들일 때는 > 기호 사용\n",
    "    mag, img_count = struct.unpack(\">II\", img_f.read(8))\n",
    "    rows, cols = struct.unpack(\">II\", img_f.read(8))\n",
    "    pixels = rows * cols\n",
    "    \n",
    "    #이미지 데이터를 읽고 CSV로 저장하기\n",
    "    res = []\n",
    "    for idx in range(lbl_count):\n",
    "        if idx > maxdata: break\n",
    "        label = struct.unpack(\"B\", lbl_f.read(1))[0]\n",
    "        bdata = img_f.read(pixels)\n",
    "        sdata = list(map(lambda n: str(n), bdata))\n",
    "        csv_f.write(str(label)+\",\")\n",
    "        csv_f.write(\",\".join(sdata)+\"\\r\\n\")\n",
    "        \n",
    "        #잘 저장됐는지 이미지 파일로 저장해서 테스트하기\n",
    "        if idx < 10:\n",
    "            s = \"P2 28 28 255\\n\"\n",
    "            s += \" \".join(sdata)\n",
    "            iname = \"./mnist/{0}-{1}-{2}.png\".format(name,idx,label)\n",
    "            with open(iname, \"w\", encoding=\"utf-8\") as f:\n",
    "                f.write(s)\n",
    "    csv_f.close()\n",
    "    lbl_f.close()\n",
    "    img_f.close()\n",
    "    \n",
    "#결과를 파일로 출력하기\n",
    "to_csv(\"train\", 1000)\n",
    "to_csv(\"t10k\", 500)"
   ]
  },
  {
   "cell_type": "code",
   "execution_count": 23,
   "metadata": {},
   "outputs": [
    {
     "name": "stdout",
     "output_type": "stream",
     "text": [
      "정답률 = 0.7884231536926147\n",
      "리포트 =\n",
      "              precision    recall  f1-score   support\n",
      "\n",
      "           0       0.87      0.93      0.90        42\n",
      "           1       0.81      1.00      0.89        67\n",
      "           2       0.84      0.69      0.76        55\n",
      "           3       0.87      0.57      0.68        46\n",
      "           4       0.76      0.75      0.75        55\n",
      "           5       0.63      0.80      0.71        50\n",
      "           6       0.97      0.67      0.79        43\n",
      "           7       0.74      0.86      0.79        49\n",
      "           8       0.91      0.72      0.81        40\n",
      "           9       0.71      0.81      0.76        54\n",
      "\n",
      "   micro avg       0.79      0.79      0.79       501\n",
      "   macro avg       0.81      0.78      0.78       501\n",
      "weighted avg       0.80      0.79      0.79       501\n",
      "\n"
     ]
    }
   ],
   "source": [
    "from sklearn import model_selection, svm, metrics\n",
    "\n",
    "#CSV 파일을 읽어 들이고 가공하기\n",
    "def load_csv(fname):\n",
    "    labels = []\n",
    "    images = []\n",
    "\n",
    "    with open(fname, \"r\") as f:\n",
    "        for line in f:\n",
    "            cols = line.split(\",\")\n",
    "            if len(cols) < 2: continue\n",
    "            labels.append(int(cols.pop(0)))\n",
    "            vals = list(map(lambda n: int(n) / 256, cols))\n",
    "            images.append(vals)\n",
    "    return {\"labels\":labels, \"images\":images}\n",
    "\n",
    "data = load_csv(\"./mnist/train.csv\")\n",
    "test = load_csv(\"./mnist/t10k.csv\")\n",
    "\n",
    "#학습하기\n",
    "clf = svm.SVC(gamma='auto')\n",
    "clf.fit(data[\"images\"], data[\"labels\"])\n",
    "\n",
    "#예측하기\n",
    "predict = clf.predict(test[\"images\"])\n",
    "\n",
    "#결과 확인하기\n",
    "ac_score = metrics.accuracy_score(test[\"labels\"], predict)\n",
    "cl_report = metrics.classification_report(test[\"labels\"], predict)\n",
    "print(\"정답률 =\", ac_score)\n",
    "print(\"리포트 =\")\n",
    "print(cl_report)"
   ]
  },
  {
   "cell_type": "markdown",
   "metadata": {},
   "source": [
    "## 4-4. 외국어 문장 판별하기"
   ]
  },
  {
   "cell_type": "code",
   "execution_count": 70,
   "metadata": {},
   "outputs": [
    {
     "name": "stdout",
     "output_type": "stream",
     "text": [
      "정답률 = 0.875\n",
      "리포트 =\n",
      "              precision    recall  f1-score   support\n",
      "\n",
      "          en       0.67      1.00      0.80         2\n",
      "          fr       1.00      1.00      1.00         2\n",
      "          id       1.00      0.50      0.67         2\n",
      "          tl       1.00      1.00      1.00         2\n",
      "\n",
      "   micro avg       0.88      0.88      0.88         8\n",
      "   macro avg       0.92      0.88      0.87         8\n",
      "weighted avg       0.92      0.88      0.87         8\n",
      "\n"
     ]
    }
   ],
   "source": [
    "from sklearn import svm, metrics\n",
    "import glob, os.path, re, json\n",
    "\n",
    "#텍스트를 읽어 들이고 출현 빈도 조사하기\n",
    "def check_freq(fname):\n",
    "    name = os.path.basename(fname)\n",
    "    lang = re.match(r'^[a-z]{2,}', name).group()\n",
    "    \n",
    "    with open(fname, \"r\", encoding=\"utf-8\") as f:\n",
    "        text = f.read()\n",
    "    text = text.lower() # 소문자 변환\n",
    "    \n",
    "    #숫자 세기 변수(cnt) 초기화\n",
    "    cnt = [0 for n in range(0, 26)]\n",
    "    code_a = ord(\"a\")\n",
    "    code_z = ord(\"z\")\n",
    "    \n",
    "    #알파벳 출현 횟수 구하기\n",
    "    for ch in text:\n",
    "        n = ord(ch)\n",
    "        if code_a <= n <= code_z: # a~z 사이에 있을 때\n",
    "            cnt[n - code_a] += 1\n",
    "            \n",
    "    #정규화하기\n",
    "    total = sum(cnt)\n",
    "    freq = list(map(lambda n: n / total, cnt))\n",
    "    \n",
    "    return (freq, lang)\n",
    "    \n",
    "#각 파일 처리하기\n",
    "def load_files(path):\n",
    "    freqs = []\n",
    "    labels = []\n",
    "    file_list = glob.glob(path)\n",
    "    \n",
    "    for fname in file_list:\n",
    "        r = check_freq(fname)\n",
    "        freqs.append(r[0])\n",
    "        labels.append(r[1])\n",
    "\n",
    "    return {\"freqs\":freqs, \"labels\":labels}\n",
    "\n",
    "data = load_files(\"./lang/train/*.txt\")\n",
    "test = load_files(\"./lang/test/*.txt\")\n",
    "\n",
    "#이후를 대비해서 JSON으로 결과 저장하기\n",
    "with open(\"./lang/freq.json\", \"w\", encoding=\"utf-8\") as fp:\n",
    "    json.dump([data, test], fp)\n",
    "\n",
    "#학습하기\n",
    "clf = svm.SVC(gamma='auto')\n",
    "clf.fit(data[\"freqs\"], data[\"labels\"])\n",
    "\n",
    "#예측하기\n",
    "predict = clf.predict(test[\"freqs\"])\n",
    "\n",
    "#결과 테스트하기\n",
    "ac_score = metrics.accuracy_score(test[\"labels\"], predict)\n",
    "cl_report = metrics.classification_report(test[\"labels\"], predict)\n",
    "print(\"정답률 =\", ac_score)\n",
    "print(\"리포트 =\")\n",
    "print(cl_report)"
   ]
  },
  {
   "cell_type": "code",
   "execution_count": 78,
   "metadata": {},
   "outputs": [
    {
     "data": {
      "image/png": "[encoded data removed]",
      "text/plain": [
       "<Figure size 1080x504 with 4 Axes>"
      ]
     },
     "metadata": {},
     "output_type": "display_data"
    }
   ],
   "source": [
    "import matplotlib.pyplot as plt\n",
    "import pandas as pd\n",
    "import json\n",
    "\n",
    "#알파벳 출현 빈도 데이터 읽어 들이기\n",
    "with open(\"./lang/freq.json\", \"r\", encoding=\"utf-8\") as fp:\n",
    "    freq = json.load(fp)\n",
    "\n",
    "#언어마다 계산하기\n",
    "lang_dic = {}\n",
    "\n",
    "for i, lbl in enumerate(freq[0][\"labels\"]):\n",
    "    fq = freq[0][\"freqs\"][i]\n",
    "    if not (lbl in lang_dic):\n",
    "        lang_dic[lbl] = fq\n",
    "        continue\n",
    "    for idx, v in enumerate(fq):\n",
    "        lang_dic[lbl][idx] = (lang_dic[lbl][idx] + v) / 2\n",
    "\n",
    "#Pandas의 DataFrame에 데이터 넣기\n",
    "asclist = [chr(n) for n in range(97,97+26)]\n",
    "df = pd.DataFrame(lang_dic, index=asclist)\n",
    "\n",
    "#그래프 그리기\n",
    "plt.style.use('ggplot')\n",
    "df.plot(figsize=(15,7), kind=\"bar\", subplots=True, ylim=(0,0.15))\n",
    "plt.savefig(\"lang-plot.png\")\n",
    "plt.show()"
   ]
  },
  {
   "cell_type": "code",
   "execution_count": 82,
   "metadata": {},
   "outputs": [
    {
     "name": "stdout",
     "output_type": "stream",
     "text": [
      "ok\n"
     ]
    }
   ],
   "source": [
    "#학습한 매개변수 저장\n",
    "from sklearn import svm \n",
    "from sklearn.externals import joblib\n",
    "import json\n",
    "\n",
    "#각 언어의 출현 빈도 데이터(JSON) 읽어 들이기\n",
    "with open(\"./lang/freq.json\", \"r\", encoding=\"utf-8\") as fp:\n",
    "    d = json.load(fp)\n",
    "    data = d[0]\n",
    "\n",
    "#데이터 학습하기\n",
    "clf = svm.SVC(gamma='auto')\n",
    "clf.fit(data[\"freqs\"], data[\"labels\"])\n",
    "\n",
    "#학습 데이터 저장하기\n",
    "joblib.dump(clf, \"./lang/freq.pkl\")\n",
    "print(\"ok\")"
   ]
  },
  {
   "cell_type": "code",
   "execution_count": null,
   "metadata": {},
   "outputs": [],
   "source": [
    "import cgi, os.path\n",
    "from sklearn.externals import joblib\n",
    "\n",
    "#학습 데이터 읽어 들이기\n",
    "pklfile = os.path.dirname(__file__) + \"/freq.pkl\"\n",
    "clf = joblib.load(pklfile)\n",
    "\n",
    "#텍스트 입력 양식 출력하기\n",
    "def show_form(text, msg=\"\"):\n",
    "    print(\"Content-Type: text/html; charset=utf-8\")\n",
    "    print(\"\")\n",
    "    print(\"\"\"\n",
    "        <html><body><form>\n",
    "        <textarea name=\"text\" rows=\"8\" cols=\"40\">{0}</textarea>\n",
    "        <p><input type=\"submit\" value=\"판정\"></p>\n",
    "        <p>{1}</p>\n",
    "        </form></body></html>\n",
    "    \"\"\".format(cgi.escape(text), msg))\n",
    "\n",
    "#판정하기\n",
    "def detect_lang(text):\n",
    "    #알파벳 출현 빈도 구하기\n",
    "    text = text.lower() \n",
    "    code_a, code_z = (ord(\"a\"), ord(\"z\"))\n",
    "    cnt = [0 for i in range(26)]\n",
    "    \n",
    "    for ch in text:\n",
    "        n = ord(ch) - code_a\n",
    "        if 0 <= n < 26: cnt[n] += 1\n",
    "    total = sum(cnt)    \n",
    "    if total == 0: return \"입력이 없습니다\"\n",
    "    \n",
    "    freq = list(map(lambda n: n/total, cnt))\n",
    "    \n",
    "    #언어 예측하기\n",
    "    res = clf.predict([freq])\n",
    "    \n",
    "    #언어 코드를 한국어로 변환하기\n",
    "    lang_dic = {\"en\":\"영어\",\"fr\":\"프랑스어\",\n",
    "        \"id\":\"인도네시아어\", \"tl\":\"타갈로그어\"}\n",
    "    \n",
    "#     return lang_dic[res[0]]\n",
    "    return res\n",
    "\n",
    "#입력 양식의 값 읽어 들이기\n",
    "form = cgi.FieldStorage()\n",
    "text = form.getvalue(\"text\", default=\"\")\n",
    "msg = \"\"\n",
    "if text != \"\":\n",
    "    lang = detect_lang(text)\n",
    "    msg = \"Result:\" + lang\n",
    "\n",
    "#입력 양식 출력\n",
    "show_form(text, msg)"
   ]
  },
  {
   "cell_type": "code",
   "execution_count": null,
   "metadata": {},
   "outputs": [],
   "source": [
    "!python -m http.server --cgi 8080"
   ]
  },
  {
   "cell_type": "markdown",
   "metadata": {},
   "source": [
    "## 4-5. 서포트 벡터 머신(SVM)"
   ]
  },
  {
   "cell_type": "markdown",
   "metadata": {},
   "source": [
    "- 선을 구성하는 매개변수를 조정해서 요소들을 구분하는 선을 찾고, 이를 기반으로 패턴을 인식\n",
    "\n",
    "- 마진 최대화 방법으로 선 탐색"
   ]
  },
  {
   "cell_type": "markdown",
   "metadata": {},
   "source": [
    "**비만 여부 판단하기**"
   ]
  },
  {
   "cell_type": "code",
   "execution_count": 1,
   "metadata": {},
   "outputs": [
    {
     "name": "stdout",
     "output_type": "stream",
     "text": [
      "ok, {'thin': 6355, 'normal': 5978, 'fat': 7667}\n"
     ]
    }
   ],
   "source": [
    "import random\n",
    "\n",
    "#BMI를 계산해서 레이블을 리턴하는 함수\n",
    "def calc_bmi(h, w):\n",
    "    bmi = w / (h/100) ** 2\n",
    "    if bmi < 18.5: \n",
    "        return \"thin\"\n",
    "    if bmi < 25: \n",
    "        return \"normal\"\n",
    "    else: \n",
    "        return \"fat\"\n",
    "\n",
    "#출력 파일 준비하기\n",
    "fp = open(\"bmi.csv\",\"w\",encoding=\"utf-8\")\n",
    "fp.write(\"height,weight,label\\r\\n\")\n",
    "\n",
    "#무작위로 데이터 생성하기\n",
    "cnt = {\"thin\":0, \"normal\":0, \"fat\":0}\n",
    "for i in range(20000):\n",
    "    h = random.randint(120,200)\n",
    "    w = random.randint(35, 80)\n",
    "    label = calc_bmi(h, w)\n",
    "    cnt[label] += 1\n",
    "    fp.write(\"{0},{1},{2}\\r\\n\".format(h, w, label))\n",
    "fp.close()\n",
    "print(\"ok,\", cnt)"
   ]
  },
  {
   "cell_type": "code",
   "execution_count": 3,
   "metadata": {},
   "outputs": [
    {
     "name": "stdout",
     "output_type": "stream",
     "text": [
      "정답률 = 0.9878\n",
      "리포트 =\n",
      "               precision    recall  f1-score   support\n",
      "\n",
      "         fat       1.00      0.99      1.00      1984\n",
      "      normal       0.96      1.00      0.98      1492\n",
      "        thin       1.00      0.97      0.99      1524\n",
      "\n",
      "   micro avg       0.99      0.99      0.99      5000\n",
      "   macro avg       0.99      0.99      0.99      5000\n",
      "weighted avg       0.99      0.99      0.99      5000\n",
      "\n"
     ]
    }
   ],
   "source": [
    "from sklearn import svm, metrics\n",
    "from sklearn.model_selection import train_test_split\n",
    "import matplotlib.pyplot as plt\n",
    "import pandas as pd\n",
    "\n",
    "#키와 몸무게 데이터 읽어 들이기\n",
    "tbl = pd.read_csv(\"bmi.csv\")\n",
    "\n",
    "#칼럼(열)을 자르고 정규화하기\n",
    "label = tbl[\"label\"]\n",
    "w = tbl[\"weight\"] / 100 # 최대 100kg라고 가정\n",
    "h = tbl[\"height\"] / 200 # 최대 200cm라고 가정\n",
    "wh = pd.concat([w, h], axis=1)\n",
    "\n",
    "#학습 전용 데이터와 테스트 전용 데이터로 나누기\n",
    "data_train, data_test, label_train, label_test = train_test_split(wh, label)\n",
    "\n",
    "#데이터 학습하기\n",
    "clf = svm.SVC(gamma='auto')\n",
    "clf.fit(data_train, label_train)\n",
    "\n",
    "#데이터 예측하기\n",
    "predict = clf.predict(data_test)\n",
    "\n",
    "#결과 테스트하기\n",
    "ac_score = metrics.accuracy_score(label_test, predict)\n",
    "cl_report = metrics.classification_report(label_test, predict)\n",
    "print(\"정답률 =\", ac_score)\n",
    "print(\"리포트 =\\n\", cl_report)"
   ]
  },
  {
   "cell_type": "code",
   "execution_count": 4,
   "metadata": {},
   "outputs": [
    {
     "data": {
      "image/png": "[encoded data removed]",
      "text/plain": [
       "<Figure size 432x288 with 1 Axes>"
      ]
     },
     "metadata": {
      "needs_background": "light"
     },
     "output_type": "display_data"
    }
   ],
   "source": [
    "import matplotlib.pyplot as plt\n",
    "import pandas as pd\n",
    "\n",
    "#Pandas로 CSV 파일 읽어 들이기\n",
    "tbl = pd.read_csv(\"bmi.csv\", index_col=2)\n",
    "\n",
    "#그래프 그리기 시작\n",
    "fig = plt.figure()\n",
    "ax = fig.add_subplot(1, 1, 1)\n",
    "\n",
    "#서브 플롯 전용 - 지정한 레이블을 임의의 색으로 칠하기\n",
    "def scatter(lbl, color):\n",
    "    b = tbl.loc[lbl]\n",
    "    ax.scatter(b[\"weight\"],b[\"height\"], c=color, label=lbl)\n",
    "\n",
    "scatter(\"fat\",    \"red\")\n",
    "scatter(\"normal\", \"yellow\")\n",
    "scatter(\"thin\",   \"purple\")\n",
    "ax.legend() \n",
    "plt.savefig(\"bmi-test.png\")\n",
    "plt.show()"
   ]
  },
  {
   "cell_type": "markdown",
   "metadata": {},
   "source": [
    "## 4-6. 랜덤 포레스트 "
   ]
  },
  {
   "cell_type": "markdown",
   "metadata": {},
   "source": [
    "* 학습 데이터를 기반으로 다수의 의사결정 트리를 만들고, 만들어진 의사결정 트리를 기반으로 다수결로 결과 유도\n",
    "\n",
    "* 처리가 빠르고 분류 정밀도가 높음"
   ]
  },
  {
   "cell_type": "markdown",
   "metadata": {},
   "source": [
    "**독버섯 구분하기**"
   ]
  },
  {
   "cell_type": "code",
   "execution_count": 6,
   "metadata": {},
   "outputs": [
    {
     "name": "stdout",
     "output_type": "stream",
     "text": [
      "ok\n"
     ]
    }
   ],
   "source": [
    "import urllib.request as req\n",
    "local= \"mushroom.csv\"\n",
    "url = \"https://archive.ics.uci.edu/ml/machine-learning-databases/mushroom/agaricus-lepiota.data\"\n",
    "req.urlretrieve(url, local)\n",
    "print(\"ok\")"
   ]
  },
  {
   "cell_type": "code",
   "execution_count": 10,
   "metadata": {},
   "outputs": [
    {
     "name": "stdout",
     "output_type": "stream",
     "text": [
      "정답률 = 1.0\n",
      "리포트 =\n",
      "               precision    recall  f1-score   support\n",
      "\n",
      "           e       1.00      1.00      1.00      1057\n",
      "           p       1.00      1.00      1.00       974\n",
      "\n",
      "   micro avg       1.00      1.00      1.00      2031\n",
      "   macro avg       1.00      1.00      1.00      2031\n",
      "weighted avg       1.00      1.00      1.00      2031\n",
      "\n"
     ]
    },
    {
     "name": "stderr",
     "output_type": "stream",
     "text": [
      "C:\\Users\\LG\\Anaconda3\\lib\\site-packages\\sklearn\\ensemble\\forest.py:246: FutureWarning: The default value of n_estimators will change from 10 in version 0.20 to 100 in 0.22.\n",
      "  \"10 in version 0.20 to 100 in 0.22.\", FutureWarning)\n"
     ]
    }
   ],
   "source": [
    "import pandas as pd\n",
    "from sklearn.ensemble import RandomForestClassifier\n",
    "from sklearn import metrics\n",
    "from sklearn.model_selection import train_test_split\n",
    "\n",
    "#데이터 읽어 들이기\n",
    "mr = pd.read_csv(\"mushroom.csv\", header=None)\n",
    "\n",
    "#데이터 내부의 기호를 숫자로 변환하기\n",
    "label = []\n",
    "data = []\n",
    "attr_list = []\n",
    "\n",
    "for row_index, row in mr.iterrows():\n",
    "    label.append(row.loc[0])\n",
    "    row_data = []\n",
    "    for v in row.loc[1:]:\n",
    "        row_data.append(ord(v))\n",
    "    data.append(row_data)\n",
    "\n",
    "#학습 전용과 테스트 전용 데이터로 나누기\n",
    "data_train, data_test, label_train, label_test = train_test_split(data, label)\n",
    "\n",
    "#데이터 학습시키기\n",
    "clf = RandomForestClassifier()\n",
    "clf.fit(data_train, label_train)\n",
    "\n",
    "#데이터 예측하기\n",
    "predict = clf.predict(data_test)\n",
    "\n",
    "#결과 테스트하기 \n",
    "ac_score = metrics.accuracy_score(label_test, predict)\n",
    "cl_report = metrics.classification_report(label_test, predict)\n",
    "print(\"정답률 =\", ac_score)\n",
    "print(\"리포트 =\\n\", cl_report)"
   ]
  },
  {
   "cell_type": "code",
   "execution_count": 12,
   "metadata": {},
   "outputs": [
    {
     "name": "stdout",
     "output_type": "stream",
     "text": [
      "정답률 = 1.0\n"
     ]
    },
    {
     "name": "stderr",
     "output_type": "stream",
     "text": [
      "C:\\Users\\LG\\Anaconda3\\lib\\site-packages\\sklearn\\ensemble\\forest.py:246: FutureWarning: The default value of n_estimators will change from 10 in version 0.20 to 100 in 0.22.\n",
      "  \"10 in version 0.20 to 100 in 0.22.\", FutureWarning)\n"
     ]
    }
   ],
   "source": [
    "import pandas as pd\n",
    "from sklearn.ensemble import RandomForestClassifier\n",
    "from sklearn import metrics\n",
    "from sklearn.model_selection import train_test_split\n",
    "\n",
    "#데이터 읽어 들이기\n",
    "mr = pd.read_csv(\"mushroom.csv\", header=None)\n",
    "\n",
    "#데이터 내부의 분류 변수 전개하기\n",
    "label = []\n",
    "data = []\n",
    "attr_list = []\n",
    "\n",
    "for row_index, row in mr.iterrows():\n",
    "    label.append(row.loc[0])\n",
    "    exdata = []\n",
    "\n",
    "    for col, v in enumerate(row.loc[1:]):\n",
    "        if row_index == 0:\n",
    "            attr = {\"dic\": {}, \"cnt\":0}\n",
    "            attr_list.append(attr)\n",
    "        else:\n",
    "            attr = attr_list[col]\n",
    "        \n",
    "        #버섯의 특징 기호를 배열로 나타내기\n",
    "        d = [0,0,0,0,0,0,0,0,0,0,0,0]\n",
    "        if v in attr[\"dic\"]:\n",
    "            idx = attr[\"dic\"][v]\n",
    "        else:\n",
    "            idx = attr[\"cnt\"]\n",
    "            attr[\"dic\"][v] = idx\n",
    "            attr[\"cnt\"] += 1\n",
    "        d[idx] = 1\n",
    "        exdata += d\n",
    "    data.append(exdata)\n",
    "\n",
    "#학습 전용 데이터와 테스트 전용 데이터로 나누기\n",
    "data_train, data_test, label_train, label_test = train_test_split(data, label)\n",
    "\n",
    "#데이터 학습시키기\n",
    "clf = RandomForestClassifier()\n",
    "clf.fit(data_train, label_train)\n",
    "\n",
    "#데이터 예측하기\n",
    "predict = clf.predict(data_test)\n",
    "\n",
    "#결과 테스트하기\n",
    "ac_score = metrics.accuracy_score(label_test, predict)\n",
    "print(\"정답률 =\", ac_score)"
   ]
  },
  {
   "cell_type": "markdown",
   "metadata": {},
   "source": [
    "## 4-7. 데이터를 검증하는 방법"
   ]
  },
  {
   "cell_type": "markdown",
   "metadata": {},
   "source": [
    "**Cross Validation**\n",
    "\n",
    "* 특정 데이터를 훈련 전용 데이터와 테스트 전용 데이터로 분할한 뒤 훈련 데이터를 활용해 학습하고 테스트 데이터로 테스트해서 학습의 타당성을 검증하는 방법"
   ]
  },
  {
   "cell_type": "code",
   "execution_count": 13,
   "metadata": {},
   "outputs": [
    {
     "name": "stdout",
     "output_type": "stream",
     "text": [
      "각각의 정답률 = [0.9666666666666667, 1.0, 0.9666666666666667, 0.9666666666666667, 0.9]\n",
      "평균 정답률 = 0.9600000000000002\n"
     ]
    }
   ],
   "source": [
    "from sklearn import svm, metrics\n",
    "import random, re\n",
    "\n",
    "#붓꽃의 CSV 파일 읽어 들이기\n",
    "lines = open('iris.csv', 'r', encoding='utf-8').read().split(\"\\n\")\n",
    "\n",
    "f_tonum = lambda n : float(n) if re.match(r'^[0-9\\.]+$', n) else n\n",
    "f_cols  = lambda li: list(map(f_tonum,li.strip().split(',')))\n",
    "csv = list(map(f_cols, lines))\n",
    "del csv[0] # 헤더 제거하기\n",
    "random.shuffle(csv) # 데이터 섞기\n",
    "\n",
    "#데이터를 K개로 분할하기\n",
    "K = 5 \n",
    "csvk = [ [] for i in range(K) ]\n",
    "for i in range(len(csv)):\n",
    "    csvk[i % K].append(csv[i])\n",
    "\n",
    "#리스트를 훈련 전용 데이터와 테스트 전용 데이터로 분할하는 함수\n",
    "def split_data_label(rows):\n",
    "    data = []; label = []\n",
    "    for row in rows:\n",
    "        data.append(row[0:4])\n",
    "        label.append(row[4])\n",
    "    return (data, label)\n",
    "\n",
    "#정답률 구하기\n",
    "def calc_score(test, train):\n",
    "    test_f, test_l = split_data_label(test)\n",
    "    train_f, train_l = split_data_label(train)\n",
    "    \n",
    "    #학습시키고 정답률 구하기\n",
    "    clf = svm.SVC(gamma='auto')\n",
    "    clf.fit(train_f, train_l)\n",
    "    pre = clf.predict(test_f)\n",
    "    return metrics.accuracy_score(test_l, pre)\n",
    "\n",
    "#K개로 분할해서 정답률 구하기\n",
    "score_list = []\n",
    "for testc in csvk:\n",
    "    #testc 이외의 데이터를 훈련 전용 데이터로 사용하기\n",
    "    trainc = []\n",
    "    for i in csvk:\n",
    "        if i != testc: trainc += i\n",
    "    sc = calc_score(testc, trainc)\n",
    "    score_list.append(sc)\n",
    "print(\"각각의 정답률 =\", score_list)\n",
    "print(\"평균 정답률 =\", sum(score_list) / len(score_list))"
   ]
  },
  {
   "cell_type": "code",
   "execution_count": 15,
   "metadata": {},
   "outputs": [
    {
     "name": "stdout",
     "output_type": "stream",
     "text": [
      "각각의 정답률 = [0.96666667 1.         0.96666667 0.96666667 1.        ]\n",
      "평균 정답률 = 0.9800000000000001\n"
     ]
    }
   ],
   "source": [
    "import pandas as pd\n",
    "from sklearn import svm, metrics, model_selection\n",
    "import random, re\n",
    "\n",
    "#붓꽃의 CSV 데이터 읽어 들이기\n",
    "csv = pd.read_csv('iris.csv')\n",
    "\n",
    "#리스트를 훈련 전용 데이터와 테스트 전용 데이터로 분할하기\n",
    "data = csv[[\"SepalLength\",\"SepalWidth\",\"PetalLength\",\"PetalWidth\"]]\n",
    "label = csv[\"Name\"]\n",
    "\n",
    "#크로스 밸리데이션하기 \n",
    "clf = svm.SVC(gamma='auto')\n",
    "scores = model_selection.cross_val_score(clf, data, label, cv=5)\n",
    "print(\"각각의 정답률 =\", scores)\n",
    "print(\"평균 정답률 =\", scores.mean())"
   ]
  },
  {
   "cell_type": "markdown",
   "metadata": {},
   "source": [
    "**Grid Search**\n",
    "\n",
    "* 각 매개변수를 적당한 범위 내부에서 변경하면서 가장 성능이 좋을 때의 값을 찾는 방법"
   ]
  },
  {
   "cell_type": "code",
   "execution_count": 1,
   "metadata": {},
   "outputs": [
    {
     "name": "stdout",
     "output_type": "stream",
     "text": [
      "학습 데이터의 수 = 1000\n"
     ]
    },
    {
     "name": "stderr",
     "output_type": "stream",
     "text": [
      "C:\\Users\\LG\\Anaconda3\\lib\\site-packages\\sklearn\\model_selection\\_split.py:2053: FutureWarning: You should specify a value for 'cv' instead of relying on the default value. The default value will change from 3 to 5 in version 0.22.\n",
      "  warnings.warn(CV_WARNING, FutureWarning)\n",
      "C:\\Users\\LG\\Anaconda3\\lib\\site-packages\\sklearn\\model_selection\\_search.py:841: DeprecationWarning: The default of the `iid` parameter will change from True to False in version 0.22 and will be removed in 0.24. This will change numeric results when test-set sizes are unequal.\n",
      "  DeprecationWarning)\n"
     ]
    },
    {
     "name": "stdout",
     "output_type": "stream",
     "text": [
      "학습기 = SVC(C=1, cache_size=200, class_weight=None, coef0=0.0,\n",
      "  decision_function_shape='ovr', degree=3, gamma='auto', kernel='linear',\n",
      "  max_iter=-1, probability=False, random_state=None, shrinking=True,\n",
      "  tol=0.001, verbose=False)\n",
      "정답률 = 0.866\n"
     ]
    }
   ],
   "source": [
    "import pandas as pd\n",
    "from sklearn import model_selection, svm, metrics\n",
    "from sklearn.model_selection import GridSearchCV\n",
    "\n",
    "#MNIST 학습 데이터 읽어 들이기\n",
    "train_csv = pd.read_csv(\"./mnist/train.csv\")\n",
    "test_csv  = pd.read_csv(\"./mnist/t10k.csv\")\n",
    "\n",
    "#필요한 열 추출하기\n",
    "train_label = train_csv.iloc[:, 0]\n",
    "train_data  = train_csv.iloc[:, 1:577]\n",
    "test_label  = test_csv.iloc[:, 0]\n",
    "test_data   = test_csv.iloc[:, 1:577]\n",
    "print(\"학습 데이터의 수 =\", len(train_label))\n",
    "\n",
    "#그리드 서치 매개변수 설정\n",
    "params = [\n",
    "    {\"C\": [1,10,100,1000], \"kernel\":[\"linear\"]},\n",
    "    {\"C\": [1,10,100,1000], \"kernel\":[\"rbf\"], \"gamma\":[0.001, 0.0001]}\n",
    "]\n",
    "\n",
    "#그리드 서치 수행\n",
    "clf = GridSearchCV( svm.SVC(gamma='auto'), params, n_jobs=-1 ) #n_jobs: 병렬 계산할 프로세스 수 지정 가능 / -1이면 자동으로 코어의 수에 맞게 프로세스 수 지정\n",
    "clf.fit(train_data, train_label)\n",
    "print(\"학습기 =\", clf.best_estimator_)\n",
    "\n",
    "#테스트 데이터 확인하기\n",
    "pre = clf.predict(test_data)\n",
    "ac_score = metrics.accuracy_score(pre, test_label)\n",
    "print(\"정답률 =\",ac_score)"
   ]
  },
  {
   "cell_type": "markdown",
   "metadata": {},
   "source": [
    "# 5장 딥러닝"
   ]
  },
  {
   "cell_type": "markdown",
   "metadata": {},
   "source": [
    "## 5-1. 딥러닝 개요 \n",
    "\n",
    "**기존의 이미지 인식과 딥러닝을 이용한 이미지 인식의 차이**\n",
    "\n",
    "-> 기존 방법에서는 사람이 이미지 내부에 있는 특징을 하나하나 지정했지만 딥러닝에서는 기계가 학습 데이터로부터 자동으로 특징을 추출\n",
    "\n",
    "**신경망**\n",
    "\n",
    "-> 신경망을 3개 이상 중첩한 DNN(Deep Neural Network)을 활용한 기계 학습을 딥러닝이라고 함"
   ]
  },
  {
   "cell_type": "code",
   "execution_count": 1,
   "metadata": {},
   "outputs": [
    {
     "name": "stdout",
     "output_type": "stream",
     "text": [
      "150\n"
     ]
    }
   ],
   "source": [
    "%matplotlib inline\n",
    "\n",
    "import matplotlib.pyplot as plt\n",
    "import numpy as np\n",
    "import pandas as pd\n",
    "import tensorflow as tf\n",
    "\n",
    "#a+b 연산\n",
    "a = tf.constant(100)\n",
    "b = tf.constant(50)\n",
    "add_op = a + b\n",
    "\n",
    "#변수 v 선언\n",
    "v = tf.Variable(0)\n",
    "\n",
    "#변수 v에 add_op 결과 대입하기\n",
    "let_op = tf.assign(v, add_op)\n",
    "\n",
    "#세션 시작\n",
    "sess = tf.Session()\n",
    "\n",
    "#변수 초기화\n",
    "sess.run(tf.global_variables_initializer())\n",
    "\n",
    "#let_op 실행하기\n",
    "sess.run(let_op)\n",
    "\n",
    "#출력하기\n",
    "print(sess.run(v))"
   ]
  },
  {
   "cell_type": "markdown",
   "metadata": {},
   "source": [
    "# 6장. 텍스트 분석과 챗봇 만들기"
   ]
  },
  {
   "cell_type": "markdown",
   "metadata": {},
   "source": [
    "## 6.6 마르코프 체인과 LSTM으로 문장 생성하기\n",
    "\n",
    "마르코프 성질: 과거의 상태를 무시하고 현재의 상태만을 기반으로 다음 상태를 선택하는 것을 의미\n",
    "\n",
    "[1] 문장을 단어로 분할(형태소 분석)합니다.\n",
    "\n",
    "[2] 단어의 전후 연결을 딕셔너리에 등록합니다.\n",
    "\n",
    "[3] 사전을 사용해 임의의 문장을 생성합니다."
   ]
  },
  {
   "cell_type": "code",
   "execution_count": null,
   "metadata": {},
   "outputs": [],
   "source": []
  },
  {
   "cell_type": "code",
   "execution_count": null,
   "metadata": {},
   "outputs": [],
   "source": []
  },
  {
   "cell_type": "code",
   "execution_count": null,
   "metadata": {},
   "outputs": [],
   "source": []
  },
  {
   "cell_type": "code",
   "execution_count": null,
   "metadata": {},
   "outputs": [],
   "source": []
  },
  {
   "cell_type": "code",
   "execution_count": null,
   "metadata": {},
   "outputs": [],
   "source": []
  },
  {
   "cell_type": "code",
   "execution_count": null,
   "metadata": {},
   "outputs": [],
   "source": []
  },
  {
   "cell_type": "code",
   "execution_count": null,
   "metadata": {},
   "outputs": [],
   "source": []
  },
  {
   "cell_type": "code",
   "execution_count": null,
   "metadata": {},
   "outputs": [],
   "source": []
  },
  {
   "cell_type": "code",
   "execution_count": null,
   "metadata": {},
   "outputs": [],
   "source": []
  }
 ],
 "metadata": {
  "kernelspec": {
   "display_name": "Python 2",
   "language": "python",
   "name": "python2"
  },
  "language_info": {
   "codemirror_mode": {
    "name": "ipython",
    "version": 2
   },
   "file_extension": ".py",
   "mimetype": "text/x-python",
   "name": "python",
   "nbconvert_exporter": "python",
   "pygments_lexer": "ipython2",
   "version": "2.7.16"
  }
 },
 "nbformat": 4,
 "nbformat_minor": 2
}
